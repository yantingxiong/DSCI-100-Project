{
 "cells": [
  {
   "cell_type": "markdown",
   "id": "b84ebc4f-1f95-4848-a78e-79d08020ceb5",
   "metadata": {},
   "source": [
    "# Group Project : Final Report \n"
   ]
  },
  {
   "cell_type": "code",
   "execution_count": null,
   "id": "8cb49d23-255a-41a1-a979-45a03f66c727",
   "metadata": {},
   "outputs": [],
   "source": []
  }
 ],
 "metadata": {
  "kernelspec": {
   "display_name": "R",
   "language": "R",
   "name": "ir"
  },
  "language_info": {
   "codemirror_mode": "r",
   "file_extension": ".r",
   "mimetype": "text/x-r-source",
   "name": "R",
   "pygments_lexer": "r",
   "version": "4.3.3"
  }
 },
 "nbformat": 4,
 "nbformat_minor": 5
}
