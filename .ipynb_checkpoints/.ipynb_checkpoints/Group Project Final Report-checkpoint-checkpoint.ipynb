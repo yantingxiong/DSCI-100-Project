{
 "cells": [
  {
   "cell_type": "code",
   "execution_count": null,
   "id": "9389deef-f227-4e8e-ae4f-ff658feac748",
   "metadata": {},
   "outputs": [],
   "source": []
  },
  {
   "cell_type": "markdown",
   "id": "12f1fbe9-86d8-47bf-8bd5-16312685e628",
   "metadata": {},
   "source": [
    "temp commit"
   ]
  },
  {
   "cell_type": "code",
   "execution_count": null,
   "id": "31d2092d-24f5-4220-8a77-cf03fa797f20",
   "metadata": {},
   "outputs": [],
   "source": []
  }
 ],
 "metadata": {
  "kernelspec": {
   "display_name": "R",
   "language": "R",
   "name": "ir"
  },
  "language_info": {
   "codemirror_mode": "r",
   "file_extension": ".r",
   "mimetype": "text/x-r-source",
   "name": "R",
   "pygments_lexer": "r",
   "version": "4.3.3"
  }
 },
 "nbformat": 4,
 "nbformat_minor": 5
}
